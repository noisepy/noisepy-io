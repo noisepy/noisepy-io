{
 "cells": [
  {
   "cell_type": "code",
   "execution_count": null,
   "metadata": {},
   "outputs": [],
   "source": [
    "import logging\n",
    "from noisepy.seis.io.compositerawstore import CompositeRawStore\n",
    "from noisepy.seis.io.s3store import SCEDCS3DataStore, NCEDCS3DataStore\n",
    "# from noisepy.seis.io.pnwstore import PNWDataStore\n",
    "from noisepy.seis.io.channelcatalog import XMLStationChannelCatalog\n",
    "from datetimerange import DateTimeRange\n",
    "from datetime import datetime, timezone  \n",
    "from noisepy.seis.io.channel_filter_store import channel_filter\n",
    "\n",
    "logger = logging.getLogger(\"noisepy.seis.io\")\n",
    "logger.setLevel(\"DEBUG\")\n",
    "logger.addHandler(logging.StreamHandler())"
   ]
  },
  {
   "cell_type": "code",
   "execution_count": null,
   "metadata": {},
   "outputs": [],
   "source": [
    "SCEDC_DATA = \"s3://scedc-pds/continuous_waveforms/\"\n",
    "NCEDC_DATA = \"s3://ncedc-pds/continuous_waveforms/NC/\"\n",
    "# PNW_DATA = \"/1-fnp/pnwstore1/p-wd08/PNW2012/__/\" \n",
    "# PNW_DB_PATH=\"/fd1/yiyu_data/PNWstore_sqlite/2012.sqlite\"\n",
    "\n",
    "S3_STORAGE_OPTIONS = {\"s3\": {\"anon\": True}}\n",
    "SCEDC_STATION_XML = \"s3://scedc-pds/FDSNstationXML/CI/\"  \n",
    "NCEDC_STATION_XML = \"s3://ncedc-pds/FDSNstationXML/NC/\"\n",
    "# PNW_STATION_XML = \"/1-fnp/pnwstore1/p-wd11/PNWStationXML/\"\n",
    "\n",
    "# timeframe for analysis\n",
    "start = datetime(2012, 1, 1, tzinfo=timezone.utc)\n",
    "end = datetime(2012, 1, 3, tzinfo=timezone.utc)\n",
    "timerange = DateTimeRange(start, end)"
   ]
  },
  {
   "cell_type": "code",
   "execution_count": null,
   "metadata": {},
   "outputs": [],
   "source": [
    "scedc_stations = \"RPV,SVD,BBR\".split(\",\")  # SCEDC station\n",
    "ncedc_stations = \"KCT,KRP,KHMB\".split(\",\") # NCEDC station\n",
    "# pnw_stations = \"RATT,IRON,DBO\".split(\",\") # UW station\n",
    "\n",
    "\n",
    "scedc_catalog = XMLStationChannelCatalog(SCEDC_STATION_XML, \n",
    "                                         storage_options=S3_STORAGE_OPTIONS)\n",
    "ncedc_catalog = XMLStationChannelCatalog(NCEDC_STATION_XML, \"{network}.{name}.xml\", \n",
    "                                         storage_options=S3_STORAGE_OPTIONS)\n",
    "# pnw_catalog = XMLStationChannelCatalog(PNW_STATION_XML, \"{network}/{network}.{name}.xml\")\n",
    "\n",
    "\n",
    "scedc_store = SCEDCS3DataStore(SCEDC_DATA, scedc_catalog,  channel_filter([\"CI\"], scedc_stations, [\"BHE\", \"BHN\", \"BHZ\"]), \n",
    "                               timerange, storage_options=S3_STORAGE_OPTIONS)\n",
    "ncedc_store = NCEDCS3DataStore(NCEDC_DATA, ncedc_catalog, channel_filter([\"NC\"], ncedc_stations, [\"HHE\", \"HHN\", \"HHZ\"]), \n",
    "                               timerange, storage_options=S3_STORAGE_OPTIONS)\n",
    "# pnw_store = PNWDataStore(PNW_DATA, pnw_catalog, PNW_DB_PATH, channel_filter([\"UW\", \"UO\"], pnw_stations, [\"BHE\", \"BHN\", \"BHZ\"]), \n",
    "                            #    timerange)\n",
    "\n",
    "raw_store = CompositeRawStore({\"CI\": scedc_store, \n",
    "                               \"NC\": ncedc_store,})\n",
    "# append for PNWstores\n",
    "# \"UW\": pnw_store\n",
    "# \"UO\": pnw_store"
   ]
  },
  {
   "cell_type": "code",
   "execution_count": null,
   "metadata": {},
   "outputs": [],
   "source": [
    "ts = raw_store.get_timespans()\n",
    "print(ts)\n",
    "channels = raw_store.get_channels(ts[0])\n",
    "print(channels)\n",
    "data = raw_store.read_data(timerange, channels[0])\n",
    "print(data.data.shape)"
   ]
  },
  {
   "cell_type": "code",
   "execution_count": null,
   "metadata": {},
   "outputs": [],
   "source": []
  }
 ],
 "metadata": {
  "kernelspec": {
   "display_name": ".env",
   "language": "python",
   "name": "python3"
  },
  "language_info": {
   "codemirror_mode": {
    "name": "ipython",
    "version": 3
   },
   "file_extension": ".py",
   "mimetype": "text/x-python",
   "name": "python",
   "nbconvert_exporter": "python",
   "pygments_lexer": "ipython3",
   "version": "3.10.13"
  }
 },
 "nbformat": 4,
 "nbformat_minor": 2
}
