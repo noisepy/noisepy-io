{
 "cells": [
  {
   "cell_type": "code",
   "execution_count": null,
   "metadata": {},
   "outputs": [],
   "source": [
    "import logging\n",
    "from noisepy.seis.io.compositerawstore import CompositeRawStore\n",
    "from noisepy.seis.io.scedc_s3store import SCEDCS3DataStore, NCEDCS3DataStore  \n",
    "from noisepy.seis.io.channelcatalog import XMLStationChannelCatalog\n",
    "from datetimerange import DateTimeRange\n",
    "from datetime import datetime, timezone  \n",
    "from noisepy.seis.io.channel_filter_store import channel_filter\n",
    "\n",
    "logger = logging.getLogger(\"noisepy.seis.io\")\n",
    "logger.setLevel(\"DEBUG\")\n",
    "logger.addHandler(logging.StreamHandler())"
   ]
  },
  {
   "cell_type": "code",
   "execution_count": null,
   "metadata": {},
   "outputs": [],
   "source": [
    "SCEDC_DATA = \"s3://scedc-pds/continuous_waveforms/\"\n",
    "NCEDC_DATA = \"s3://ncedc-pds/continuous_waveforms/NC/\"\n",
    "S3_STORAGE_OPTIONS = {\"s3\": {\"anon\": True}}\n",
    "SCEDC_STATION_XML = \"s3://scedc-pds/FDSNstationXML/CI/\"  \n",
    "NCEDC_STATION_XML = \"s3://ncedc-pds/FDSNstationXML/NC/\"\n",
    "\n",
    "# timeframe for analysis\n",
    "start = datetime(2012, 1, 1, tzinfo=timezone.utc)\n",
    "end = datetime(2012, 1, 3, tzinfo=timezone.utc)\n",
    "timerange = DateTimeRange(start, end)\n",
    "scedc_stations = \"RPV,SVD,BBR\".split(\",\")\n",
    "ncedc_stations = \"KCT,KRP,KHMB\".split(\",\") \n",
    "\n",
    "\n",
    "scedc_catalog = XMLStationChannelCatalog(SCEDC_STATION_XML, storage_options=S3_STORAGE_OPTIONS) # Station catalog\n",
    "ncedc_catalog = XMLStationChannelCatalog(NCEDC_STATION_XML, storage_options=S3_STORAGE_OPTIONS) # Station catalog\n",
    "\n",
    "scedc_store = SCEDCS3DataStore(SCEDC_DATA, scedc_catalog,  channel_filter([\"CI\"], scedc_stations, [\"*\"]), timerange, storage_options=S3_STORAGE_OPTIONS) # Store for reading raw data from S3 bucket\n",
    "ncedc_store = NCEDCS3DataStore(NCEDC_DATA, ncedc_catalog, channel_filter([\"BK\"], ncedc_stations, [\"*\"]), timerange, storage_options=S3_STORAGE_OPTIONS) # Store for reading raw data from S3 bucket\n",
    "\n",
    "store = CompositeRawStore({\"CI\": scedc_store, \"BK\": ncedc_store}) # Composite store for reading data from both SCEDC and NCEDC"
   ]
  },
  {
   "cell_type": "code",
   "execution_count": null,
   "metadata": {},
   "outputs": [],
   "source": [
    "ts = store.get_timespans()\n",
    "print(ts)\n",
    "channels = store.get_channels(ts[0])\n",
    "print(channels)\n",
    "data = store.read_data(timerange, channels[0])\n",
    "print(data.data.shape)\n"
   ]
  },
  {
   "cell_type": "code",
   "execution_count": null,
   "metadata": {},
   "outputs": [],
   "source": []
  }
 ],
 "metadata": {
  "kernelspec": {
   "display_name": ".env",
   "language": "python",
   "name": "python3"
  },
  "language_info": {
   "codemirror_mode": {
    "name": "ipython",
    "version": 3
   },
   "file_extension": ".py",
   "mimetype": "text/x-python",
   "name": "python",
   "nbconvert_exporter": "python",
   "pygments_lexer": "ipython3",
   "version": "3.11.5"
  }
 },
 "nbformat": 4,
 "nbformat_minor": 2
}
