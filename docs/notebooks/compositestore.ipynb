{
 "cells": [
  {
   "cell_type": "code",
   "execution_count": 1,
   "metadata": {},
   "outputs": [
    {
     "name": "stderr",
     "output_type": "stream",
     "text": [
      "/home/niyiyu/anaconda3/envs/noisepy-io/lib/python3.10/site-packages/noisepy/seis/io/utils.py:13: TqdmWarning: IProgress not found. Please update jupyter and ipywidgets. See https://ipywidgets.readthedocs.io/en/stable/user_install.html\n",
      "  from tqdm.autonotebook import tqdm\n"
     ]
    }
   ],
   "source": [
    "import logging\n",
    "from noisepy.seis.io.compositerawstore import CompositeRawStore\n",
    "from noisepy.seis.io.scedc_s3store import SCEDCS3DataStore, NCEDCS3DataStore\n",
    "from noisepy.seis.io.pnwstore import PNWDataStore\n",
    "from noisepy.seis.io.channelcatalog import XMLStationChannelCatalog\n",
    "from datetimerange import DateTimeRange\n",
    "from datetime import datetime, timezone  \n",
    "from noisepy.seis.io.channel_filter_store import channel_filter\n",
    "\n",
    "logger = logging.getLogger(\"noisepy.seis.io\")\n",
    "logger.setLevel(\"DEBUG\")\n",
    "logger.addHandler(logging.StreamHandler())"
   ]
  },
  {
   "cell_type": "code",
   "execution_count": 2,
   "metadata": {},
   "outputs": [],
   "source": [
    "SCEDC_DATA = \"s3://scedc-pds/continuous_waveforms/\"\n",
    "NCEDC_DATA = \"s3://ncedc-pds/continuous_waveforms/NC/\"\n",
    "PNW_DATA = \"/1-fnp/pnwstore1/p-wd08/PNW2012/__/\" \n",
    "PNW_DB_PATH=\"/fd1/yiyu_data/PNWstore_sqlite/2012.sqlite\"\n",
    "\n",
    "S3_STORAGE_OPTIONS = {\"s3\": {\"anon\": True}}\n",
    "SCEDC_STATION_XML = \"s3://scedc-pds/FDSNstationXML/CI/\"  \n",
    "NCEDC_STATION_XML = \"s3://ncedc-pds/FDSNstationXML/NC/\"\n",
    "PNW_STATION_XML = \"/1-fnp/pnwstore1/p-wd11/PNWStationXML/\"\n",
    "\n",
    "# timeframe for analysis\n",
    "start = datetime(2012, 1, 1, tzinfo=timezone.utc)\n",
    "end = datetime(2012, 1, 3, tzinfo=timezone.utc)\n",
    "timerange = DateTimeRange(start, end)"
   ]
  },
  {
   "cell_type": "code",
   "execution_count": 3,
   "metadata": {},
   "outputs": [],
   "source": [
    "scedc_stations = \"RPV,SVD,BBR\".split(\",\")  # SCEDC station\n",
    "ncedc_stations = \"KCT,KRP,KHMB\".split(\",\") # NCEDC station\n",
    "pnw_stations = \"RATT,IRON,DBO\".split(\",\") # UW station\n",
    "\n",
    "\n",
    "scedc_catalog = XMLStationChannelCatalog(SCEDC_STATION_XML, \n",
    "                                         storage_options=S3_STORAGE_OPTIONS)\n",
    "ncedc_catalog = XMLStationChannelCatalog(NCEDC_STATION_XML, \"{network}.{name}.xml\", \n",
    "                                         storage_options=S3_STORAGE_OPTIONS)\n",
    "pnw_catalog = XMLStationChannelCatalog(PNW_STATION_XML, \"{network}/{network}.{name}.xml\")\n",
    "\n",
    "\n",
    "scedc_store = SCEDCS3DataStore(SCEDC_DATA, scedc_catalog,  channel_filter([\"CI\"], scedc_stations, [\"BHE\", \"BHN\", \"BHZ\"]), \n",
    "                               timerange, storage_options=S3_STORAGE_OPTIONS)\n",
    "ncedc_store = NCEDCS3DataStore(NCEDC_DATA, ncedc_catalog, channel_filter([\"NC\"], ncedc_stations, [\"HHE\", \"HHN\", \"HHZ\"]), \n",
    "                               timerange, storage_options=S3_STORAGE_OPTIONS)\n",
    "pnw_store = PNWDataStore(PNW_DATA, pnw_catalog, PNW_DB_PATH, channel_filter([\"UW\", \"UO\"], pnw_stations, [\"BHE\", \"BHN\", \"BHZ\"]), \n",
    "                               timerange)\n",
    "\n",
    "raw_store = CompositeRawStore({\"CI\": scedc_store, \n",
    "                               \"NC\": ncedc_store,\n",
    "                               \"UW\": pnw_store,\n",
    "                               \"UO\": pnw_store}) # Composite store for reading data"
   ]
  },
  {
   "cell_type": "code",
   "execution_count": 6,
   "metadata": {},
   "outputs": [
    {
     "name": "stdout",
     "output_type": "stream",
     "text": [
      "[2012-01-01T00:00:00+0000 - 2012-01-02T00:00:00+0000, 2012-01-02T00:00:00+0000 - 2012-01-03T00:00:00+0000, 2012-01-01T00:00:00+0000 - 2012-01-02T00:00:00+0000, 2012-01-02T00:00:00+0000 - 2012-01-03T00:00:00+0000, 2012-01-01T00:00:00+0000 - 2012-01-02T00:00:00+0000, 2012-01-02T00:00:00+0000 - 2012-01-03T00:00:00+0000, 2012-01-01T00:00:00+0000 - 2012-01-02T00:00:00+0000, 2012-01-02T00:00:00+0000 - 2012-01-03T00:00:00+0000]\n"
     ]
    },
    {
     "name": "stderr",
     "output_type": "stream",
     "text": [
      "TIMING: 0.3577 secs. for Loading 1743 files from s3://scedc-pds/continuous_waveforms/2012/2012_001/\n",
      "TIMING: 0.0243 secs. for Init: 1 timespans and 6 channels\n",
      "Reading StationXML file s3://scedc-pds/FDSNstationXML/CI/CI_SVD.xml\n",
      "Reading StationXML file s3://scedc-pds/FDSNstationXML/CI/CI_BBR.xml\n",
      "Getting 6 channels for 2012-01-01T00:00:00+0000 - 2012-01-02T00:00:00+0000: [CI.BBR.BHE, CI.BBR.BHN, CI.BBR.BHZ, CI.SVD.BHE, CI.SVD.BHN, CI.SVD.BHZ]\n",
      "TIMING: 0.4415 secs. for Loading 804 files from s3://ncedc-pds/continuous_waveforms/NC/2012/2012.001/\n",
      "TIMING: 0.0118 secs. for Init: 1 timespans and 9 channels\n",
      "Reading StationXML file s3://ncedc-pds/FDSNstationXML/NC/NC.KRP.xml\n",
      "Reading StationXML file s3://ncedc-pds/FDSNstationXML/NC/NC.KCT.xml\n",
      "Reading StationXML file s3://ncedc-pds/FDSNstationXML/NC/NC.KHMB.xml\n",
      "Getting 9 channels for 2012-01-01T00:00:00+0000 - 2012-01-02T00:00:00+0000: [NC.KCT.HHE, NC.KCT.HHN, NC.KCT.HHZ, NC.KHMB.HHE, NC.KHMB.HHN, NC.KHMB.HHZ, NC.KRP.HHE, NC.KRP.HHN, NC.KRP.HHZ]\n",
      "Reading StationXML file /1-fnp/pnwstore1/p-wd11/PNWStationXML/UO/UO.DBO.xml\n",
      "Reading StationXML file /1-fnp/pnwstore1/p-wd11/PNWStationXML/UW/UW.IRON.xml\n",
      "Reading StationXML file /1-fnp/pnwstore1/p-wd11/PNWStationXML/UW/UW.RATT.xml\n",
      "TIMING: 0.0032 secs. for Loading 1743 files from s3://scedc-pds/continuous_waveforms/2012/2012_001/\n",
      "TIMING: 0.0241 secs. for Init: 1 timespans and 12 channels\n"
     ]
    },
    {
     "name": "stdout",
     "output_type": "stream",
     "text": [
      "[CI.BBR.BHE, CI.BBR.BHN, CI.BBR.BHZ, CI.SVD.BHE, CI.SVD.BHN, CI.SVD.BHZ, NC.KCT.HHE, NC.KCT.HHN, NC.KCT.HHZ, NC.KHMB.HHE, NC.KHMB.HHN, NC.KHMB.HHZ, NC.KRP.HHE, NC.KRP.HHN, NC.KRP.HHZ, UO.DBO.BHE, UO.DBO.BHN, UO.DBO.BHZ, UW.IRON.BHE, UW.IRON.BHN, UW.IRON.BHZ, UW.RATT.BHE, UW.RATT.BHN, UW.RATT.BHZ, UO.DBO.BHE, UO.DBO.BHN, UO.DBO.BHZ, UW.IRON.BHE, UW.IRON.BHN, UW.IRON.BHZ, UW.RATT.BHE, UW.RATT.BHN, UW.RATT.BHZ]\n"
     ]
    },
    {
     "name": "stderr",
     "output_type": "stream",
     "text": [
      "TIMING: 0.2515 secs. for Loading 1743 files from s3://scedc-pds/continuous_waveforms/2012/2012_002/\n",
      "TIMING: 0.0240 secs. for Init: 2 timespans and 18 channels\n"
     ]
    },
    {
     "name": "stdout",
     "output_type": "stream",
     "text": [
      "(108,)\n"
     ]
    }
   ],
   "source": [
    "ts = raw_store.get_timespans()\n",
    "print(ts)\n",
    "channels = raw_store.get_channels(ts[0])\n",
    "print(channels)\n",
    "data = raw_store.read_data(timerange, channels[0])\n",
    "print(data.data.shape)"
   ]
  },
  {
   "cell_type": "code",
   "execution_count": null,
   "metadata": {},
   "outputs": [],
   "source": []
  }
 ],
 "metadata": {
  "kernelspec": {
   "display_name": "noisepy-io",
   "language": "python",
   "name": "noisepy-io"
  },
  "language_info": {
   "codemirror_mode": {
    "name": "ipython",
    "version": 3
   },
   "file_extension": ".py",
   "mimetype": "text/x-python",
   "name": "python",
   "nbconvert_exporter": "python",
   "pygments_lexer": "ipython3",
   "version": "3.10.13"
  }
 },
 "nbformat": 4,
 "nbformat_minor": 2
}
