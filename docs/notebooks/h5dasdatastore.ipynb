{
 "cells": [
  {
   "cell_type": "code",
   "execution_count": null,
   "id": "392c2701",
   "metadata": {},
   "outputs": [],
   "source": [
    "%load_ext autoreload\n",
    "%autoreload 2"
   ]
  },
  {
   "cell_type": "code",
   "execution_count": null,
   "id": "f62c60b2",
   "metadata": {},
   "outputs": [],
   "source": [
    "import logging\n",
    "logger = logging.getLogger(\"noisepy.seis.io\")\n",
    "logger.setLevel(\"INFO\")"
   ]
  },
  {
   "cell_type": "code",
   "execution_count": null,
   "id": "cd78eec7",
   "metadata": {},
   "outputs": [],
   "source": [
    "import os\n",
    "import numpy as np\n",
    "import h5py\n",
    "import obspy\n",
    "import matplotlib.pyplot as plt\n",
    "\n",
    "from noisepy.seis.io.h5store import DASH5DataStore\n",
    "from datetime import datetime, timezone, timedelta\n",
    "from datetimerange import DateTimeRange\n",
    "from noisepy.seis.io.datatypes import CCMethod, ConfigParameters, FreqNorm, RmResp, StackMethod, TimeNorm  \n",
    "from noisepy.seis.io.utils import fs_join\n",
    "from noisepy.seis.io.numpystore import NumpyCCStore, NumpyStackStore\n",
    "\n",
    "from noisepy.seis import cross_correlate, stack_cross_correlations, __version__  "
   ]
  },
  {
   "cell_type": "code",
   "execution_count": null,
   "id": "1e6f756d",
   "metadata": {},
   "outputs": [],
   "source": [
    "DAS_DATA = \"../../../SeaDAS-tomo/data/seadas/\"\n",
    "\n",
    "# timeframe for analysis\n",
    "start = datetime(2022, 12, 31, 2, 0, 0, tzinfo=timezone.utc)\n",
    "end = datetime(2022, 12, 31, 3, 0, 0, tzinfo=timezone.utc)\n",
    "time_range = DateTimeRange(start, end)\n",
    "print(time_range)"
   ]
  },
  {
   "cell_type": "code",
   "execution_count": null,
   "id": "e7399b81",
   "metadata": {},
   "outputs": [],
   "source": [
    "raw_store = DASH5DataStore(path = DAS_DATA,\n",
    "                           sampling_rate=100,\n",
    "                           channel_numbers=list(np.arange(500, 800, 10)),\n",
    "                           file_naming = \"seadasn_%Y-%m-%d_%H-%M-%S_GMT.h5\",\n",
    "                           array_name = \"SeaDAS\",\n",
    "                           date_range = time_range) # Store for reading raw data from S3 bucket\n",
    "raw_store.fs"
   ]
  },
  {
   "cell_type": "code",
   "execution_count": null,
   "id": "7edddb22",
   "metadata": {},
   "outputs": [],
   "source": [
    "span = raw_store.get_timespans()\n",
    "channels = raw_store.get_channels(span[0])\n",
    "d = raw_store.read_data(span[2], channels[0])\n",
    "d.stream"
   ]
  },
  {
   "cell_type": "code",
   "execution_count": null,
   "id": "553ec227",
   "metadata": {},
   "outputs": [],
   "source": [
    "path = \"./das_data\" \n",
    "\n",
    "os.makedirs(path, exist_ok=True)\n",
    "cc_data_path = os.path.join(path, \"CCF\")\n",
    "stack_data_path = os.path.join(path, \"STACK\")"
   ]
  },
  {
   "cell_type": "code",
   "execution_count": null,
   "id": "c64bce8d",
   "metadata": {},
   "outputs": [],
   "source": [
    "config = ConfigParameters()\n",
    "config.start_date = start\n",
    "config.end_date = end\n",
    "config.acorr_only = False # only perform auto-correlation or not\n",
    "config.xcorr_only = True # only perform cross-correlation or not\n",
    "\n",
    "config.inc_hours = 0\n",
    "config.samp_freq= 25  # (int) Sampling rate in Hz of desired processing (it can be different than the data sampling rate)\n",
    "config.cc_len= 60  # (float) basic unit of data length for fft (sec)\n",
    "config.step= 60.0  # (float) overlapping between each cc_len (sec)\n",
    "\n",
    "config.ncomp = 1  # 1 or 3 component data (needed to decide whether do rotation)\n",
    "\n",
    "config.stationxml= False  # station.XML file used to remove instrument response for SAC/miniseed data\n",
    "      # If True, the stationXML file is assumed to be provided.\n",
    "config.rm_resp= RmResp.NO  # select 'no' to not remove response and use 'inv' if you use the stationXML,'spectrum',\n",
    "\n",
    "############## NOISE PRE-PROCESSING ##################\n",
    "config.freqmin,config.freqmax = 1., 10.0  # broad band filtering of the data before cross correlation\n",
    "config.max_over_std  = 100  # threshold to remove window of bad signals: set it to 10*9 if prefer not to remove them\n",
    "\n",
    "################### SPECTRAL NORMALIZATION ############\n",
    "config.freq_norm= FreqNorm.RMA  # choose between \"rma\" for a soft whitening or \"no\" for no whitening. Pure whitening is not implemented correctly at this point.\n",
    "config.smoothspect_N = 10  # moving window length to smooth spectrum amplitude (points)\n",
    "    # here, choose smoothspect_N for the case of a strict whitening (e.g., phase_only)\n",
    "\n",
    "#################### TEMPORAL NORMALIZATION ##########\n",
    "config.time_norm = TimeNorm.ONE_BIT # 'no' for no normalization, or 'rma', 'one_bit' for normalization in time domain,\n",
    "config.smooth_N= 100  # moving window length for time domain normalization if selected (points)\n",
    "\n",
    "############ cross correlation ##############\n",
    "config.cc_method= CCMethod.XCORR # 'xcorr' for pure cross correlation OR 'deconv' for deconvolution;\n",
    "    # FOR \"COHERENCY\" PLEASE set freq_norm to \"rma\", time_norm to \"no\" and cc_method to \"xcorr\"\n",
    "\n",
    "config.substack = False  # True = smaller stacks within the time chunk. False: it will stack over inc_hours\n",
    "config.substack_len = config.cc_len  # how long to stack over (for monitoring purpose): need to be multiples of cc_len\n",
    "\n",
    "config.maxlag= 10  # lags of cross-correlation to save (sec)\n",
    "\n",
    "config.net_list = [\"*\"]"
   ]
  },
  {
   "cell_type": "code",
   "execution_count": null,
   "id": "b0568de2",
   "metadata": {},
   "outputs": [],
   "source": [
    "cc_store = NumpyCCStore(cc_data_path) # Store for writing CC data\n",
    "span = raw_store.get_timespans()\n",
    "channel_list=raw_store.get_channels(span[0])\n",
    "d = raw_store.read_data(span[0], channel_list[2])\n",
    "d.stream"
   ]
  },
  {
   "cell_type": "code",
   "execution_count": null,
   "id": "2ff7d2eb",
   "metadata": {},
   "outputs": [],
   "source": [
    "# ⛔️ this is where there are too many logging that overflows the notebook limit\n",
    "\n",
    "cross_correlate(raw_store, config, cc_store)"
   ]
  },
  {
   "cell_type": "code",
   "execution_count": null,
   "id": "49854dc6",
   "metadata": {},
   "outputs": [],
   "source": [
    "# open a new cc store in read-only mode since we will be doing parallel access for stacking\n",
    "cc_store = NumpyCCStore(cc_data_path, mode=\"r\")\n",
    "stack_store = NumpyStackStore(stack_data_path)\n",
    "config.stack_method = StackMethod.LINEAR"
   ]
  },
  {
   "cell_type": "code",
   "execution_count": null,
   "id": "ddd43e4d",
   "metadata": {},
   "outputs": [],
   "source": [
    "stack_cross_correlations(cc_store, stack_store, config)"
   ]
  },
  {
   "cell_type": "code",
   "execution_count": null,
   "id": "5c997ee1",
   "metadata": {},
   "outputs": [],
   "source": [
    "pairs = stack_store.get_station_pairs()\n",
    "print(f\"Found {len(pairs)} station pairs\")\n",
    "sta_stacks = stack_store.read_bulk(time_range, pairs) # no timestamp used in ASDFStackStore"
   ]
  },
  {
   "cell_type": "code",
   "execution_count": null,
   "id": "e9c1d757",
   "metadata": {},
   "outputs": [],
   "source": [
    "for i in sta_stacks:\n",
    "    src = int(i[0][0].name)\n",
    "    rec = int(i[0][1].name)\n",
    "    if src == 500:\n",
    "        dist = abs(src - rec)\n",
    "        plt.plot(i[1][0].data + dist/300, color = 'k', alpha=0.5)\n",
    "# plt.ylim([-0.05, 0.2])"
   ]
  }
 ],
 "metadata": {
  "kernelspec": {
   "display_name": "noisepy",
   "language": "python",
   "name": "noisepy"
  },
  "language_info": {
   "codemirror_mode": {
    "name": "ipython",
    "version": 3
   },
   "file_extension": ".py",
   "mimetype": "text/x-python",
   "name": "python",
   "nbconvert_exporter": "python",
   "pygments_lexer": "ipython3",
   "version": "3.10.13"
  }
 },
 "nbformat": 4,
 "nbformat_minor": 5
}
