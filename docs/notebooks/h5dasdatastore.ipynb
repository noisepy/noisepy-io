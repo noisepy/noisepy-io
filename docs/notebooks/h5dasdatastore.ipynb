{
 "cells": [
  {
   "cell_type": "code",
   "execution_count": null,
   "id": "392c2701",
   "metadata": {},
   "outputs": [],
   "source": [
    "%load_ext autoreload\n",
    "%autoreload 2"
   ]
  },
  {
   "cell_type": "code",
   "execution_count": null,
   "id": "f62c60b2",
   "metadata": {},
   "outputs": [],
   "source": [
    "import logging\n",
    "logger = logging.getLogger(\"noisepy.seis.io\")\n",
    "logger.setLevel(\"INFO\")"
   ]
  },
  {
   "cell_type": "code",
   "execution_count": null,
   "id": "cd78eec7",
   "metadata": {},
   "outputs": [],
   "source": [
    "from noisepy.seis.io.h5store import DASH5DataStore"
   ]
  },
  {
   "cell_type": "code",
   "execution_count": null,
   "id": "e7399b81",
   "metadata": {},
   "outputs": [],
   "source": [
    "DAS_DATA = \"../../tests/das/\"\n",
    "\n",
    "raw_store = DASH5DataStore(path = DAS_DATA,\n",
    "                           sampling_rate=100,\n",
    "                           channel_numbers=[0,1,2],\n",
    "                           file_naming = \"%Y-%m-%d-%H-%M-%S.h5\",\n",
    "                           date_range = None)\n",
    "raw_store.fs"
   ]
  },
  {
   "cell_type": "code",
   "execution_count": null,
   "id": "7edddb22",
   "metadata": {},
   "outputs": [],
   "source": [
    "span = raw_store.get_timespans()\n",
    "channels = raw_store.get_channels(span[0])\n",
    "d = raw_store.read_data(span[0], channels[0])\n",
    "d.stream"
   ]
  },
  {
   "cell_type": "code",
   "execution_count": null,
   "id": "b11875bd",
   "metadata": {},
   "outputs": [],
   "source": []
  }
 ],
 "metadata": {
  "kernelspec": {
   "display_name": ".env",
   "language": "python",
   "name": "python3"
  },
  "language_info": {
   "codemirror_mode": {
    "name": "ipython",
    "version": 3
   },
   "file_extension": ".py",
   "mimetype": "text/x-python",
   "name": "python",
   "nbconvert_exporter": "python",
   "pygments_lexer": "ipython3",
   "version": "3.10.13"
  }
 },
 "nbformat": 4,
 "nbformat_minor": 5
}
