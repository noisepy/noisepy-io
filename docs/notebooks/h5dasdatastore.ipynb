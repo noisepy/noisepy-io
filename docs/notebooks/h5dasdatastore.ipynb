{
 "cells": [
  {
   "cell_type": "code",
   "execution_count": 1,
   "id": "392c2701",
   "metadata": {},
   "outputs": [],
   "source": [
    "%load_ext autoreload\n",
    "%autoreload 2"
   ]
  },
  {
   "cell_type": "code",
   "execution_count": 2,
   "id": "f62c60b2",
   "metadata": {},
   "outputs": [],
   "source": [
    "import logging\n",
    "logger = logging.getLogger(\"noisepy.seis.io\")\n",
    "logger.setLevel(\"INFO\")"
   ]
  },
  {
   "cell_type": "code",
   "execution_count": 3,
   "id": "cd78eec7",
   "metadata": {},
   "outputs": [
    {
     "name": "stderr",
     "output_type": "stream",
     "text": [
      "/home/niyiyu/Research/noisepy-io/src/noisepy/seis/io/utils.py:13: TqdmWarning: IProgress not found. Please update jupyter and ipywidgets. See https://ipywidgets.readthedocs.io/en/stable/user_install.html\n",
      "  from tqdm.autonotebook import tqdm\n"
     ]
    }
   ],
   "source": [
    "import os\n",
    "import numpy as np\n",
    "import h5py\n",
    "import obspy\n",
    "import matplotlib.pyplot as plt\n",
    "\n",
    "from noisepy.seis.io.h5store import DASH5DataStore\n",
    "from datetime import datetime, timezone, timedelta\n",
    "from datetimerange import DateTimeRange\n",
    "from noisepy.seis.io.datatypes import CCMethod, ConfigParameters, FreqNorm, RmResp, StackMethod, TimeNorm  \n",
    "from noisepy.seis.io.utils import fs_join\n",
    "from noisepy.seis.io.numpystore import NumpyCCStore, NumpyStackStore  "
   ]
  },
  {
   "cell_type": "code",
   "execution_count": 6,
   "id": "e7399b81",
   "metadata": {},
   "outputs": [
    {
     "data": {
      "text/plain": [
       "<fsspec.implementations.local.LocalFileSystem at 0x7fac41079d80>"
      ]
     },
     "execution_count": 6,
     "metadata": {},
     "output_type": "execute_result"
    }
   ],
   "source": [
    "DAS_DATA = \"../../tests/das/\"\n",
    "\n",
    "raw_store = DASH5DataStore(path = DAS_DATA,\n",
    "                           sampling_rate=100,\n",
    "                           channel_numbers=[0,1,2],\n",
    "                           file_naming = \"%Y-%m-%d-%H-%M-%S.h5\",\n",
    "                           date_range = None) # Store for reading raw data from S3 bucket\n",
    "raw_store.fs"
   ]
  },
  {
   "cell_type": "code",
   "execution_count": 7,
   "id": "7edddb22",
   "metadata": {},
   "outputs": [
    {
     "data": {
      "text/plain": [
       "1 Trace(s) in Stream:\n",
       "DAS.00000..XXZ | 2021-10-15T01:02:03.000000Z - 2021-10-15T01:02:04.190000Z | 100.0 Hz, 120 samples"
      ]
     },
     "execution_count": 7,
     "metadata": {},
     "output_type": "execute_result"
    }
   ],
   "source": [
    "span = raw_store.get_timespans()\n",
    "channels = raw_store.get_channels(span[0])\n",
    "d = raw_store.read_data(span[0], channels[0])\n",
    "d.stream"
   ]
  },
  {
   "cell_type": "code",
   "execution_count": null,
   "id": "b11875bd",
   "metadata": {},
   "outputs": [],
   "source": []
  }
 ],
 "metadata": {
  "kernelspec": {
   "display_name": "noisepy-io",
   "language": "python",
   "name": "noisepy-io"
  },
  "language_info": {
   "codemirror_mode": {
    "name": "ipython",
    "version": 3
   },
   "file_extension": ".py",
   "mimetype": "text/x-python",
   "name": "python",
   "nbconvert_exporter": "python",
   "pygments_lexer": "ipython3",
   "version": "3.10.13"
  }
 },
 "nbformat": 4,
 "nbformat_minor": 5
}
